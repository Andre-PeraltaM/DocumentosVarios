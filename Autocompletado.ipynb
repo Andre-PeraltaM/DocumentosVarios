{
  "nbformat": 4,
  "nbformat_minor": 0,
  "metadata": {
    "colab": {
      "name": "Autocompletado.ipynb",
      "provenance": [],
      "collapsed_sections": [],
      "authorship_tag": "ABX9TyP3YhXBgLAp1454ZomhjpHA",
      "include_colab_link": true
    },
    "kernelspec": {
      "name": "python3",
      "display_name": "Python 3"
    }
  },
  "cells": [
    {
      "cell_type": "markdown",
      "metadata": {
        "id": "view-in-github",
        "colab_type": "text"
      },
      "source": [
        "<a href=\"https://colab.research.google.com/github/Andre-PeraltaM/DocumentosVarios/blob/master/Autocompletado.ipynb\" target=\"_parent\"><img src=\"https://colab.research.google.com/assets/colab-badge.svg\" alt=\"Open In Colab\"/></a>"
      ]
    },
    {
      "cell_type": "code",
      "metadata": {
        "id": "AEmMivM7yVGi",
        "outputId": "8a533f91-65eb-4b6d-ab6c-41b1ec96f706",
        "colab": {
          "base_uri": "https://localhost:8080/"
        }
      },
      "source": [
        "texto = '''En un lugar de la Mancha, de cuyo nombre no quiero acordarme, no ha mucho tiempo que vivía un\n",
        "hidalgo de los de lanza en astillero, adarga antigua, rocín flaco y galgo corredor. Una olla de algo\n",
        "más vaca que carnero, salpicón las más noches, duelos y quebrantos los sábados, lentejas los\n",
        "viernes, algún palomino de añadidura los domingos, consumían las tres partes de su hacienda. El\n",
        "resto della concluían sayo de velarte, calzas de velludo para las fiestas con sus pantuflos de lo\n",
        "mismo, los días de entre semana se honraba con su vellori de lo más fino. Tenía en su casa una ama\n",
        "que pasaba de los cuarenta, y una sobrina que no llegaba a los veinte, y un mozo de campo y plaza,\n",
        "que así ensillaba el rocín como tomaba la podadera. Frisaba la edad de nuestro hidalgo con los\n",
        "cincuenta años, era de complexión recia, seco de carnes, enjuto de rostro; gran madrugador y amigo\n",
        "de la caza. Quieren decir que tenía el sobrenombre de Quijada o Quesada ( que en esto hay alguna\n",
        "diferencia en los autores que deste caso escriben ), aunque por conjeturas verosímiles se deja\n",
        "entender que se llama Quijana; pero esto importa poco a nuestro cuento; basta que en la narración\n",
        "dél no se salga un punto de la verdad. Es, pues, de saber, que este sobredicho hidalgo, los ratos que\n",
        "estaba ocioso ( que eran los más del año ) se daba a leer libros de caballerías con tanta afición y gusto,\n",
        "que olvidó casi de todo punto el ejercicio de la caza, y aun la administración de su hacienda.'''\n",
        "\n",
        "def Autocompletado(texto,prefijo):\n",
        "\n",
        "\ttexto = texto.split()\n",
        "\n",
        "\tresultados = {}\n",
        "\n",
        "\tfor palabra in texto:\n",
        "\n",
        "\t\tif palabra[:len(prefijo)].lower() == prefijo.lower() :\n",
        "\n",
        "\t\t\t'''Agregamos la palabra a un diccionario (elegí un diccionario para ahorrarme codigo \n",
        "\t\t\ty así no tener que verificar si la palabra ya está ahí, de ésta manera no se repiten palabras)'''\n",
        "\n",
        "\t\t\tresultados[palabra] = 0 \n",
        "\n",
        "\treturn list(resultados)\n",
        "\n",
        "palabras = Autocompletado(texto,'au')\n",
        "\n",
        "print(palabras)"
      ],
      "execution_count": 1,
      "outputs": [
        {
          "output_type": "stream",
          "text": [
            "['autores', 'aunque', 'aun']\n"
          ],
          "name": "stdout"
        }
      ]
    }
  ]
}