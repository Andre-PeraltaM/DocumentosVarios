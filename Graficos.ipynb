{
  "nbformat": 4,
  "nbformat_minor": 0,
  "metadata": {
    "colab": {
      "name": "Graficos.ipynb",
      "provenance": [],
      "collapsed_sections": [],
      "authorship_tag": "ABX9TyOlOs5d85XWnrfYaXmOWvjH",
      "include_colab_link": true
    },
    "kernelspec": {
      "name": "python3",
      "display_name": "Python 3"
    }
  },
  "cells": [
    {
      "cell_type": "markdown",
      "metadata": {
        "id": "view-in-github",
        "colab_type": "text"
      },
      "source": [
        "<a href=\"https://colab.research.google.com/github/Andre-PeraltaM/DocumentosVarios/blob/master/Graficos.ipynb\" target=\"_parent\"><img src=\"https://colab.research.google.com/assets/colab-badge.svg\" alt=\"Open In Colab\"/></a>"
      ]
    },
    {
      "cell_type": "code",
      "metadata": {
        "id": "A3npt3xZRheV"
      },
      "source": [
        "import numpy as np\n",
        "import matplotlib.pyplot as plt\n",
        "\n",
        "def tabulacionY(funcion):\n",
        "  \n",
        "  funcion = (x)**4 + (3)*(x)**3 -2 #Esta es la funcion a graficar\n",
        "  return funcion\n",
        "\n",
        "\n",
        "\n",
        "x = np.linspace(-10,10,100)\n",
        "\n",
        "plt.plot(x, tabulacionY(x))\n",
        "\n",
        "plt.xlabel(\"x\")#nombres\n",
        "plt.ylabel(\"y\")\n",
        "plt.title(\"función: \")\n",
        "\n",
        "tamañoCuadricula= [-20,20,-20,20] #Tamaño de los ejes\n",
        "plt.axis(tamañoCuadricula)\n",
        "plt.grid()"
      ],
      "execution_count": null,
      "outputs": []
    }
  ]
}