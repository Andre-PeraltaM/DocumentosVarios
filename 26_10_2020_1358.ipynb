{
  "nbformat": 4,
  "nbformat_minor": 0,
  "metadata": {
    "colab": {
      "name": "26/10/2020_1358.ipynb",
      "provenance": [],
      "collapsed_sections": [],
      "authorship_tag": "ABX9TyO9AvjOewjHq49rfw4naleV",
      "include_colab_link": true
    },
    "kernelspec": {
      "name": "python3",
      "display_name": "Python 3"
    }
  },
  "cells": [
    {
      "cell_type": "markdown",
      "metadata": {
        "id": "view-in-github",
        "colab_type": "text"
      },
      "source": [
        "<a href=\"https://colab.research.google.com/github/Andre-PeraltaM/DocumentosVarios/blob/master/26_10_2020_1358.ipynb\" target=\"_parent\"><img src=\"https://colab.research.google.com/assets/colab-badge.svg\" alt=\"Open In Colab\"/></a>"
      ]
    },
    {
      "cell_type": "code",
      "metadata": {
        "id": "k2qUisdB5Ji4",
        "outputId": "ae0c42ea-10fc-46e5-f831-febd7bcd7db4",
        "colab": {
          "base_uri": "https://localhost:8080/",
          "height": 85
        }
      },
      "source": [
        "'''\n",
        "Array\n",
        "'''\n",
        "\n",
        "class Array:\n",
        "\tdef __init__(self,tam):\n",
        "\t\t'''constructor de un tamaño específico del arreglo.'''\n",
        "\t\tself.__tam = tam\n",
        "\t\tself.__datos = [0 for x in range(tam)]\n",
        "\n",
        "\tdef get_item(self,index):\n",
        "\t\t'''Obtener elemento en la posición espécifica'''\n",
        "\t\treturn f'El elemento en la posición {index} es: {self.__datos[index]}'\n",
        "\n",
        "    \n",
        "# A partir de aquí terminé lo que pedía el programa\n",
        "\tdef set_item(self , dato , index):\n",
        "\t\t'''establecer un elemento en la posición establecida'''\n",
        "\t\tself.dato = dato \n",
        "\t\tself.__datos[index] = dato \n",
        "\n",
        "\tdef get_length(self):\n",
        "\t\t'''Obtener el tamaño del arreglo'''\n",
        "\t\treturn f'El tamaño del arreglo es de: {len(self.__datos)}'\n",
        "\n",
        "\tdef Clear(self,dato):\n",
        "\t\t'''establece todos los valores del ADT al valor enviado en dato.'''\n",
        "\t\tself.__datos = [dato for x in range(self.__tam)]\n",
        "\n",
        "\t#def get_Iterador(): Aún no estoy seguro de lo que pide aquí, por lo que no lo terminé\n",
        "\n",
        "\n",
        "\n",
        "mi_arreglo = Array(10)\n",
        "print(mi_arreglo.get_item(2))\n",
        "\n",
        "mi_arreglo.set_item(5,3) #Cambiamos un valor\n",
        "print(mi_arreglo.get_item(3)) #Comprobamos que cambió\n",
        "\n",
        "print(mi_arreglo.get_length())#Tamaño del array\n",
        "\n",
        "mi_arreglo.Clear(9) #Establecemos los nuevos valores\n",
        "print(mi_arreglo.get_item(2)) #Verificamos que se hayan cambiado"
      ],
      "execution_count": 15,
      "outputs": [
        {
          "output_type": "stream",
          "text": [
            "El elemento en la posición 2 es: 0\n",
            "El elemento en la posición 3 es: 5\n",
            "El tamaño del arreglo es de: 10\n",
            "El elemento en la posición 2 es: 9\n"
          ],
          "name": "stdout"
        }
      ]
    }
  ]
}